{
 "cells": [
  {
   "attachments": {},
   "cell_type": "markdown",
   "metadata": {},
   "source": [
    "# <center>Thuật toán giải hệ bất phương trình tuyến tính</center><font size=\"5\"><center>Nguyễn Trương Phi</center></font>\n",
    "\n",
    "# Giới thiệu\n",
    "Một thuật toán giúp giải các bài toán tìm tối ưu của các biến để thỏa mãn các điều kiện cho trước bằng cách giải hệ bất phương trìnhThuật toán thích hợp để chọn lựa tổ hợp tối ưu trong thời gian nhanh nhất mà không cần phải tạo tất cả tổ hợp rồi xét điều kiện ở từng tổ hợp.\n",
    "\n",
    "# Quy trình \n",
    "<center><img src=\"Quy_trình.png\" style=\"background-color:white;\"  width=\"800\" height=\"auto\"/></center>\n",
    "\n",
    "## Bài toán\n",
    "Giá, trọng lượng và giá sau khi nuôi trên thị trường của các giống vật nuôi (gà con, heo con, $\\dots$ ) được cho như Bảng sau. Một người nông dân muốn mua một số con vật để đem về nuôi nhưng trong ví của anh ta chỉ có 1000\\$ và chỉ có thể chở về trang trại của mình tối đa 500 kg. Hỏi anh ta phải lựa chọn số lượng giống vật nuôi con như thế nào để khi nuôi xong giá trị chúng mang lại theo giá thị trường là cao nhất,\n",
    "\n",
    "|                         | **Mực** | **Gà** | **Heo** | **Cừu** |\n",
    "|-------------------------|---------|--------|---------|---------|\n",
    "| **Giá (\\$)**            | 2    | 5   | 7    | 10   |\n",
    "| **Trọng lượng (kg)**    | 2    | 5   | 10   | 15   |\n",
    "| **Giá thị trường (\\$)** | 4    | 8   | 11   | 19   |\n",
    "\n",
    "\n",
    "Đặt số lượng mỗi loại giống sẽ lấy là $m, g, h, c \\in \\mathbb{N}^*$, tương ứng với các loại giống Mực, Gà, Heo, Cừu. Từ đó ta có có hệ bất phương trình\n",
    "\n",
    "\n",
    "$$\n",
    "\\begin{cases} 2m + 5g + 7h + 10c &\\le 1000\\\\2m + 5g + 10h + 15c &\\le 500\\\\4m + 8g + 11h + 19c &= {G_{\\max }} \\end{cases}\n",
    "$$"
   ]
  },
  {
   "cell_type": "markdown",
   "metadata": {},
   "source": [
    "## Giải"
   ]
  },
  {
   "cell_type": "markdown",
   "metadata": {},
   "source": [
    "### Khảo sát "
   ]
  },
  {
   "cell_type": "code",
   "execution_count": 1,
   "metadata": {},
   "outputs": [
    {
     "name": "stdout",
     "output_type": "stream",
     "text": [
      "{0: '-'}\n",
      "{0: '-', 1: '-'}\n",
      "{0: '-', 1: '-', 2: '-'}\n"
     ]
    }
   ],
   "source": [
    "import sinequal as sin\n",
    "\n",
    "biens = [\"m\",\"g\",\"h\",\"c\"] # Khai báo tên biến\n",
    "cuctri = [0,0,0,0]\t# Khai báo biến có phải cực trị (0: không phải, 1: cực đại, -1: cực tiểu)\n",
    "he_bpt = [\"2*m+5*g+7*h+10*c<=1000\",\"2*m+5*g+10*h+15*c<=500\",\n",
    "\t\t\t\"m>=1\",\"g>=1\",\"h>=1\",\"c>=1\"]\n",
    "\n",
    "nghiem = sin.Solve_Inequal(biens, cuctri, he_bpt)[1]"
   ]
  },
  {
   "cell_type": "code",
   "execution_count": 10,
   "metadata": {},
   "outputs": [
    {
     "name": "stdout",
     "output_type": "stream",
     "text": [
      "978\n"
     ]
    }
   ],
   "source": [
    "weight = [2*i[0]+5*i[1]+10*i[2]+15*i[3] for i in nghiem] # khoi luong cua hang\n",
    "price = [2*i[0]+5*i[1]+7*i[2]+10*i[3] for i in nghiem] # gia cua hang\n",
    "price_tt = [4*i[0]+8*i[1]+11*i[2]+19*i[3] for i in nghiem] # gia thi truong\n",
    "print(max(price_tt))"
   ]
  },
  {
   "cell_type": "code",
   "execution_count": 6,
   "metadata": {},
   "outputs": [],
   "source": [
    "import matplotlib.pyplot as plt\n",
    "# Creating figure\n",
    "fig = plt.figure(figsize = (10, 7))\n",
    "ax = plt.axes(projection =\"3d\")\n",
    " \n",
    "# Creating plot\n",
    "ax.scatter3D(weight, price, price_tt, color = \"green\",s=1)\n",
    "plt.title(\"Mối tương quan\")\n",
    " \n",
    "# show plot\n",
    "%matplotlib qt\n",
    "plt.show()\n"
   ]
  },
  {
   "cell_type": "code",
   "execution_count": 7,
   "metadata": {},
   "outputs": [],
   "source": [
    "\n",
    "def plot2D(b1,b2): # Vẽ đồ thị 2D\n",
    "    # Vẽ đồ thị dotplot để khảo sát mối tương quan\n",
    "    plt.scatter(b1,b2)\n",
    "    plt.grid()\n",
    "    plt.show()\n",
    "\n",
    "plot2D(weight,price) #x và y"
   ]
  },
  {
   "cell_type": "code",
   "execution_count": 8,
   "metadata": {},
   "outputs": [],
   "source": [
    "plot2D(weight,price_tt) #x và z"
   ]
  },
  {
   "cell_type": "code",
   "execution_count": 16,
   "metadata": {},
   "outputs": [
    {
     "data": {
      "image/png": "[encoded data removed]",
      "text/plain": [
       "<Figure size 432x288 with 1 Axes>"
      ]
     },
     "metadata": {
      "needs_background": "light"
     },
     "output_type": "display_data"
    }
   ],
   "source": [
    "plot2D(price,price_tt) #y và z"
   ]
  },
  {
   "cell_type": "markdown",
   "metadata": {},
   "source": [
    "### Khảo sát cực trị"
   ]
  },
  {
   "cell_type": "code",
   "execution_count": 14,
   "metadata": {},
   "outputs": [
    {
     "name": "stdout",
     "output_type": "stream",
     "text": [
      "{0: 931}\n",
      "{0: 931, 1: '-'}\n",
      "{0: 931, 1: '-', 2: '-'}\n",
      "{0: 931, 1: '-', 2: '-', 3: '-'}\n",
      "{0: 930}\n",
      "{0: 930, 1: '-'}\n",
      "{0: 930, 1: '-', 2: '-'}\n",
      "{0: 930, 1: '-', 2: '-', 3: '-'}\n",
      "{0: 929}\n",
      "{0: 929, 1: '-'}\n",
      "{0: 929, 1: '-', 2: '-'}\n",
      "{0: 929, 1: '-', 2: '-', 3: '-'}\n",
      "{0: 928}\n",
      "{0: 928, 1: '-'}\n",
      "{0: 928, 1: '-', 2: '-'}\n",
      "{0: 928, 1: '-', 2: '-', 3: '-'}\n",
      "[[225, 5, 1, 1, 970]]\n"
     ]
    }
   ],
   "source": [
    "biens = [\"m\",\"g\",\"h\",\"c\",\"G\"] # Khai báo tên biến\n",
    "cuctri = [0,0,0,0,1]\t# Khai báo biến có phải cực trị (0: không phải, 1: cực đại, -1: cực tiểu)\n",
    "he_bpt = [\"2*m+5*g+7*h+10*c<=1000\",\"2*m+5*g+10*h+15*c==500\",\"4*m+8*g+11*h+19*c-G==0\",\n",
    "\t\t\t\"m>=1\",\"g>=1\",\"h>=1\",\"c>=1\"]\n",
    "\n",
    "nghiem = sin.Solve_Inequal(biens, cuctri, he_bpt)[1]\n",
    "print(nghiem)"
   ]
  },
  {
   "cell_type": "code",
   "execution_count": 7,
   "metadata": {},
   "outputs": [],
   "source": [
    "def phogia(index,tieu_bien3): #từ index của biến còn lại và hàm tiêu biến xuất ra list giá trị \n",
    "    max_bien = []\n",
    "    min_bien = []\n",
    "    for i in range(len(tieu_bien3)):\n",
    "        if tieu_bien3[i][index] > 0:\n",
    "            min_bien.append(-tieu_bien3[i][-1]/ tieu_bien3[i][index])\n",
    "        elif tieu_bien3[i][index] < 0:\n",
    "            max_bien.append(-tieu_bien3[i][-1]/ tieu_bien3[i][index])\n",
    "    #print(max_bien)\n",
    "    #print(min_bien)\n",
    "\n",
    "    max_bien_value = math.floor(min(max_bien))\n",
    "    #print(max_bien_value)\n",
    "\n",
    "    min_bien_value = math.ceil(max(min_bien))\n",
    "    #print(min_bien_value)\n",
    "\n",
    "    return list(range(min_bien_value,max_bien_value+1))"
   ]
  }
 ],
 "metadata": {
  "kernelspec": {
   "display_name": "Python 3.9.7 64-bit",
   "language": "python",
   "name": "python3"
  },
  "language_info": {
   "codemirror_mode": {
    "name": "ipython",
    "version": 3
   },
   "file_extension": ".py",
   "mimetype": "text/x-python",
   "name": "python",
   "nbconvert_exporter": "python",
   "pygments_lexer": "ipython3",
   "version": "3.9.7"
  },
  "orig_nbformat": 4,
  "vscode": {
   "interpreter": {
    "hash": "e33dda8a4d12c9c36a233218a905238da2bb40652a11ab3365bb0fe0ea2bff9b"
   }
  }
 },
 "nbformat": 4,
 "nbformat_minor": 2
}
